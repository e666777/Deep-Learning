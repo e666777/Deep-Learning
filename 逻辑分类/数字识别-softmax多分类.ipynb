{
 "cells": [
  {
   "attachments": {},
   "cell_type": "markdown",
   "metadata": {},
   "source": [
    "# 手写数据集分类问题--softmax多分类"
   ]
  },
  {
   "cell_type": "code",
   "execution_count": 1,
   "metadata": {},
   "outputs": [],
   "source": [
    "import keras\n",
    "from keras import layers\n",
    "import matplotlib.pyplot as plt\n",
    "from keras.layers import Activation, Dense\n",
    "%matplotlib inline"
   ]
  },
  {
   "cell_type": "code",
   "execution_count": 2,
   "metadata": {},
   "outputs": [],
   "source": [
    "#导入数据集\n",
    "import keras.datasets.mnist as mnist\n",
    "(train_image, train_label), (test_image, test_label) = mnist.load_data()"
   ]
  },
  {
   "cell_type": "code",
   "execution_count": 3,
   "metadata": {},
   "outputs": [
    {
     "data": {
      "text/plain": [
       "(60000, 28, 28)"
      ]
     },
     "execution_count": 3,
     "metadata": {},
     "output_type": "execute_result"
    }
   ],
   "source": [
    "train_image.shape"
   ]
  },
  {
   "cell_type": "code",
   "execution_count": 4,
   "metadata": {},
   "outputs": [
    {
     "data": {
      "text/plain": [
       "<matplotlib.image.AxesImage at 0x23a45f15940>"
      ]
     },
     "execution_count": 4,
     "metadata": {},
     "output_type": "execute_result"
    },
    {
     "data": {
      "image/png": "[encoded data removed]",
      "text/plain": [
       "<Figure size 640x480 with 1 Axes>"
      ]
     },
     "metadata": {},
     "output_type": "display_data"
    }
   ],
   "source": [
    "plt.imshow(train_image[0])"
   ]
  },
  {
   "cell_type": "code",
   "execution_count": 5,
   "metadata": {},
   "outputs": [
    {
     "data": {
      "text/plain": [
       "(60000,)"
      ]
     },
     "execution_count": 5,
     "metadata": {},
     "output_type": "execute_result"
    }
   ],
   "source": [
    "train_label.shape"
   ]
  },
  {
   "cell_type": "code",
   "execution_count": 6,
   "metadata": {},
   "outputs": [
    {
     "data": {
      "text/plain": [
       "5"
      ]
     },
     "execution_count": 6,
     "metadata": {},
     "output_type": "execute_result"
    }
   ],
   "source": [
    "train_label[0]"
   ]
  },
  {
   "cell_type": "code",
   "execution_count": 7,
   "metadata": {},
   "outputs": [],
   "source": [
    "model = keras.Sequential()\n",
    "##Flatten层用于展平数据，把（28, 28）的数据转化成28*28的数据\n",
    "model.add(layers.Flatten())\n",
    "#隐藏层，全连接，输出64个单元，使用relu进行激活\n",
    "model.add(layers.Dense(64,activation='relu'))\n",
    "#输出层,多分类问题采用softmax进行输出\n",
    "model.add(layers.Dense(10,activation='softmax'))"
   ]
  },
  {
   "cell_type": "code",
   "execution_count": 8,
   "metadata": {},
   "outputs": [],
   "source": [
    "model.compile(optimizer=\"adam\",\n",
    "    loss='sparse_categorical_crossentropy',\n",
    "    metrics=['accuracy'])"
   ]
  },
  {
   "cell_type": "code",
   "execution_count": 9,
   "metadata": {},
   "outputs": [
    {
     "name": "stdout",
     "output_type": "stream",
     "text": [
      "Epoch 1/100\n",
      "3000/3000 [==============================] - 8s 2ms/step - loss: 2.0465 - accuracy: 0.7961 - val_loss: 0.5904 - val_accuracy: 0.8508\n",
      "Epoch 2/100\n",
      "3000/3000 [==============================] - 7s 2ms/step - loss: 0.4749 - accuracy: 0.8854 - val_loss: 0.3648 - val_accuracy: 0.9145\n",
      "Epoch 3/100\n",
      "3000/3000 [==============================] - 7s 2ms/step - loss: 0.3414 - accuracy: 0.9119 - val_loss: 0.3140 - val_accuracy: 0.9228\n",
      "Epoch 4/100\n",
      "3000/3000 [==============================] - 7s 2ms/step - loss: 0.3011 - accuracy: 0.9248 - val_loss: 0.3158 - val_accuracy: 0.9279\n",
      "Epoch 5/100\n",
      "3000/3000 [==============================] - 7s 2ms/step - loss: 0.2879 - accuracy: 0.9277 - val_loss: 0.3553 - val_accuracy: 0.9134\n",
      "Epoch 6/100\n",
      "3000/3000 [==============================] - 7s 2ms/step - loss: 0.2657 - accuracy: 0.9331 - val_loss: 0.2902 - val_accuracy: 0.9347\n",
      "Epoch 7/100\n",
      "3000/3000 [==============================] - 6s 2ms/step - loss: 0.2575 - accuracy: 0.9353 - val_loss: 0.2884 - val_accuracy: 0.9299\n",
      "Epoch 8/100\n",
      "3000/3000 [==============================] - 8s 3ms/step - loss: 0.2526 - accuracy: 0.9366 - val_loss: 0.3291 - val_accuracy: 0.9328\n",
      "Epoch 9/100\n",
      "3000/3000 [==============================] - 8s 3ms/step - loss: 0.2454 - accuracy: 0.9381 - val_loss: 0.4122 - val_accuracy: 0.9212\n",
      "Epoch 10/100\n",
      "3000/3000 [==============================] - 8s 3ms/step - loss: 0.2396 - accuracy: 0.9398 - val_loss: 0.3191 - val_accuracy: 0.9335\n",
      "Epoch 11/100\n",
      "3000/3000 [==============================] - 8s 3ms/step - loss: 0.2399 - accuracy: 0.9396 - val_loss: 0.3527 - val_accuracy: 0.9246\n",
      "Epoch 12/100\n",
      "3000/3000 [==============================] - 8s 3ms/step - loss: 0.2320 - accuracy: 0.9409 - val_loss: 0.3222 - val_accuracy: 0.9353\n",
      "Epoch 13/100\n",
      "3000/3000 [==============================] - 8s 3ms/step - loss: 0.2316 - accuracy: 0.9414 - val_loss: 0.3901 - val_accuracy: 0.9349\n",
      "Epoch 14/100\n",
      "3000/3000 [==============================] - 7s 2ms/step - loss: 0.2378 - accuracy: 0.9411 - val_loss: 0.3772 - val_accuracy: 0.9329\n",
      "Epoch 15/100\n",
      "3000/3000 [==============================] - 8s 3ms/step - loss: 0.2244 - accuracy: 0.9435 - val_loss: 0.3404 - val_accuracy: 0.9385\n",
      "Epoch 16/100\n",
      "3000/3000 [==============================] - 8s 3ms/step - loss: 0.2223 - accuracy: 0.9443 - val_loss: 0.3807 - val_accuracy: 0.9318\n",
      "Epoch 17/100\n",
      "3000/3000 [==============================] - 8s 3ms/step - loss: 0.2253 - accuracy: 0.9440 - val_loss: 0.3860 - val_accuracy: 0.9313\n",
      "Epoch 18/100\n",
      "3000/3000 [==============================] - 8s 3ms/step - loss: 0.2259 - accuracy: 0.9446 - val_loss: 0.3821 - val_accuracy: 0.9326\n",
      "Epoch 19/100\n",
      "3000/3000 [==============================] - 8s 3ms/step - loss: 0.2194 - accuracy: 0.9450 - val_loss: 0.3860 - val_accuracy: 0.9308\n",
      "Epoch 20/100\n",
      "3000/3000 [==============================] - 9s 3ms/step - loss: 0.2171 - accuracy: 0.9454 - val_loss: 0.3598 - val_accuracy: 0.9313\n",
      "Epoch 21/100\n",
      "3000/3000 [==============================] - 8s 3ms/step - loss: 0.2188 - accuracy: 0.9457 - val_loss: 0.4071 - val_accuracy: 0.9293\n",
      "Epoch 22/100\n",
      "3000/3000 [==============================] - 7s 2ms/step - loss: 0.2218 - accuracy: 0.9455 - val_loss: 0.4300 - val_accuracy: 0.9267\n",
      "Epoch 23/100\n",
      "3000/3000 [==============================] - 7s 2ms/step - loss: 0.2200 - accuracy: 0.9445 - val_loss: 0.3862 - val_accuracy: 0.9371\n",
      "Epoch 24/100\n",
      "3000/3000 [==============================] - 8s 3ms/step - loss: 0.2147 - accuracy: 0.9459 - val_loss: 0.3841 - val_accuracy: 0.9308\n",
      "Epoch 25/100\n",
      "3000/3000 [==============================] - 8s 3ms/step - loss: 0.2228 - accuracy: 0.9461 - val_loss: 0.4397 - val_accuracy: 0.9220\n",
      "Epoch 26/100\n",
      "3000/3000 [==============================] - 7s 2ms/step - loss: 0.2126 - accuracy: 0.9474 - val_loss: 0.4866 - val_accuracy: 0.9358\n",
      "Epoch 27/100\n",
      "3000/3000 [==============================] - 8s 3ms/step - loss: 0.2141 - accuracy: 0.9470 - val_loss: 0.4345 - val_accuracy: 0.9218\n",
      "Epoch 28/100\n",
      "3000/3000 [==============================] - 6s 2ms/step - loss: 0.2180 - accuracy: 0.9458 - val_loss: 0.4461 - val_accuracy: 0.9333\n",
      "Epoch 29/100\n",
      "3000/3000 [==============================] - 6s 2ms/step - loss: 0.2063 - accuracy: 0.9477 - val_loss: 0.4828 - val_accuracy: 0.9359\n",
      "Epoch 30/100\n",
      "3000/3000 [==============================] - 6s 2ms/step - loss: 0.2109 - accuracy: 0.9480 - val_loss: 0.4116 - val_accuracy: 0.9357\n",
      "Epoch 31/100\n",
      "3000/3000 [==============================] - 5s 2ms/step - loss: 0.2050 - accuracy: 0.9481 - val_loss: 0.4906 - val_accuracy: 0.9335\n",
      "Epoch 32/100\n",
      "3000/3000 [==============================] - 5s 2ms/step - loss: 0.2088 - accuracy: 0.9474 - val_loss: 0.5073 - val_accuracy: 0.9403\n",
      "Epoch 33/100\n",
      "3000/3000 [==============================] - 5s 2ms/step - loss: 0.2048 - accuracy: 0.9490 - val_loss: 0.5094 - val_accuracy: 0.9375\n",
      "Epoch 34/100\n",
      "3000/3000 [==============================] - 5s 2ms/step - loss: 0.2105 - accuracy: 0.9489 - val_loss: 0.4685 - val_accuracy: 0.9304\n",
      "Epoch 35/100\n",
      "3000/3000 [==============================] - 5s 2ms/step - loss: 0.2034 - accuracy: 0.9488 - val_loss: 0.4840 - val_accuracy: 0.9333\n",
      "Epoch 36/100\n",
      "3000/3000 [==============================] - 5s 2ms/step - loss: 0.2089 - accuracy: 0.9487 - val_loss: 0.5090 - val_accuracy: 0.9363\n",
      "Epoch 37/100\n",
      "3000/3000 [==============================] - 5s 2ms/step - loss: 0.2037 - accuracy: 0.9498 - val_loss: 0.5093 - val_accuracy: 0.9318\n",
      "Epoch 38/100\n",
      "3000/3000 [==============================] - 5s 2ms/step - loss: 0.1987 - accuracy: 0.9505 - val_loss: 0.5474 - val_accuracy: 0.9354\n",
      "Epoch 39/100\n",
      "3000/3000 [==============================] - 5s 2ms/step - loss: 0.1982 - accuracy: 0.9504 - val_loss: 0.6000 - val_accuracy: 0.9366\n",
      "Epoch 40/100\n",
      "3000/3000 [==============================] - 5s 2ms/step - loss: 0.1946 - accuracy: 0.9514 - val_loss: 0.5933 - val_accuracy: 0.9327\n",
      "Epoch 41/100\n",
      "3000/3000 [==============================] - 6s 2ms/step - loss: 0.1980 - accuracy: 0.9506 - val_loss: 0.5532 - val_accuracy: 0.9319\n",
      "Epoch 42/100\n",
      "3000/3000 [==============================] - 7s 2ms/step - loss: 0.2023 - accuracy: 0.9507 - val_loss: 0.6100 - val_accuracy: 0.9324\n",
      "Epoch 43/100\n",
      "3000/3000 [==============================] - 8s 3ms/step - loss: 0.1996 - accuracy: 0.9507 - val_loss: 0.5647 - val_accuracy: 0.9287\n",
      "Epoch 44/100\n",
      "3000/3000 [==============================] - 8s 3ms/step - loss: 0.1944 - accuracy: 0.9519 - val_loss: 0.6314 - val_accuracy: 0.9357\n",
      "Epoch 45/100\n",
      "3000/3000 [==============================] - 8s 3ms/step - loss: 0.2003 - accuracy: 0.9517 - val_loss: 0.7313 - val_accuracy: 0.9295\n",
      "Epoch 46/100\n",
      "3000/3000 [==============================] - 9s 3ms/step - loss: 0.1950 - accuracy: 0.9517 - val_loss: 0.5882 - val_accuracy: 0.9346\n",
      "Epoch 47/100\n",
      "3000/3000 [==============================] - 9s 3ms/step - loss: 0.1912 - accuracy: 0.9521 - val_loss: 0.5816 - val_accuracy: 0.9360\n",
      "Epoch 48/100\n",
      "3000/3000 [==============================] - 8s 3ms/step - loss: 0.1988 - accuracy: 0.9515 - val_loss: 0.5818 - val_accuracy: 0.9341\n",
      "Epoch 49/100\n",
      "3000/3000 [==============================] - 9s 3ms/step - loss: 0.1921 - accuracy: 0.9522 - val_loss: 0.6550 - val_accuracy: 0.9310\n",
      "Epoch 50/100\n",
      "3000/3000 [==============================] - 9s 3ms/step - loss: 0.1981 - accuracy: 0.9519 - val_loss: 0.6963 - val_accuracy: 0.9315\n",
      "Epoch 51/100\n",
      "3000/3000 [==============================] - 8s 3ms/step - loss: 0.2007 - accuracy: 0.9522 - val_loss: 0.7355 - val_accuracy: 0.9346\n",
      "Epoch 52/100\n",
      "3000/3000 [==============================] - 9s 3ms/step - loss: 0.2054 - accuracy: 0.9518 - val_loss: 0.6596 - val_accuracy: 0.9248\n",
      "Epoch 53/100\n",
      "3000/3000 [==============================] - 7s 2ms/step - loss: 0.1922 - accuracy: 0.9532 - val_loss: 0.6545 - val_accuracy: 0.9324\n",
      "Epoch 54/100\n",
      "3000/3000 [==============================] - 7s 2ms/step - loss: 0.1919 - accuracy: 0.9537 - val_loss: 0.6326 - val_accuracy: 0.9298\n",
      "Epoch 55/100\n",
      "3000/3000 [==============================] - 8s 3ms/step - loss: 0.1934 - accuracy: 0.9528 - val_loss: 0.6180 - val_accuracy: 0.9298\n",
      "Epoch 56/100\n",
      "3000/3000 [==============================] - 7s 2ms/step - loss: 0.1826 - accuracy: 0.9546 - val_loss: 0.5977 - val_accuracy: 0.9353\n",
      "Epoch 57/100\n",
      "3000/3000 [==============================] - 8s 3ms/step - loss: 0.1905 - accuracy: 0.9532 - val_loss: 0.6957 - val_accuracy: 0.9365\n",
      "Epoch 58/100\n",
      "3000/3000 [==============================] - 8s 3ms/step - loss: 0.1883 - accuracy: 0.9537 - val_loss: 0.6526 - val_accuracy: 0.9302\n",
      "Epoch 59/100\n",
      "3000/3000 [==============================] - 8s 3ms/step - loss: 0.1834 - accuracy: 0.9536 - val_loss: 0.7271 - val_accuracy: 0.9316\n",
      "Epoch 60/100\n",
      "3000/3000 [==============================] - 6s 2ms/step - loss: 0.1936 - accuracy: 0.9528 - val_loss: 0.7007 - val_accuracy: 0.9336\n",
      "Epoch 61/100\n",
      "3000/3000 [==============================] - 5s 2ms/step - loss: 0.1868 - accuracy: 0.9543 - val_loss: 0.6878 - val_accuracy: 0.9324\n",
      "Epoch 62/100\n",
      "3000/3000 [==============================] - 7s 2ms/step - loss: 0.1893 - accuracy: 0.9535 - val_loss: 0.6499 - val_accuracy: 0.9230\n",
      "Epoch 63/100\n",
      "3000/3000 [==============================] - 8s 3ms/step - loss: 0.1982 - accuracy: 0.9528 - val_loss: 0.6950 - val_accuracy: 0.9296\n",
      "Epoch 64/100\n",
      "3000/3000 [==============================] - 5s 2ms/step - loss: 0.1881 - accuracy: 0.9552 - val_loss: 0.7306 - val_accuracy: 0.9313\n",
      "Epoch 65/100\n",
      "3000/3000 [==============================] - 5s 2ms/step - loss: 0.1895 - accuracy: 0.9534 - val_loss: 0.7154 - val_accuracy: 0.9308\n",
      "Epoch 66/100\n",
      "3000/3000 [==============================] - 6s 2ms/step - loss: 0.1908 - accuracy: 0.9528 - val_loss: 0.8096 - val_accuracy: 0.9364\n",
      "Epoch 67/100\n",
      "3000/3000 [==============================] - 6s 2ms/step - loss: 0.1877 - accuracy: 0.9542 - val_loss: 0.7211 - val_accuracy: 0.9340\n",
      "Epoch 68/100\n",
      "3000/3000 [==============================] - 6s 2ms/step - loss: 0.1755 - accuracy: 0.9557 - val_loss: 0.7531 - val_accuracy: 0.9318\n",
      "Epoch 69/100\n",
      "3000/3000 [==============================] - 8s 3ms/step - loss: 0.1841 - accuracy: 0.9540 - val_loss: 0.7940 - val_accuracy: 0.9302\n",
      "Epoch 70/100\n",
      "3000/3000 [==============================] - 7s 2ms/step - loss: 0.1811 - accuracy: 0.9548 - val_loss: 0.9028 - val_accuracy: 0.9323\n",
      "Epoch 71/100\n",
      "3000/3000 [==============================] - 7s 2ms/step - loss: 0.1898 - accuracy: 0.9545 - val_loss: 0.8353 - val_accuracy: 0.9301\n",
      "Epoch 72/100\n",
      "3000/3000 [==============================] - 8s 3ms/step - loss: 0.1855 - accuracy: 0.9538 - val_loss: 0.7862 - val_accuracy: 0.9284\n",
      "Epoch 73/100\n",
      "3000/3000 [==============================] - 7s 2ms/step - loss: 0.1840 - accuracy: 0.9542 - val_loss: 0.8984 - val_accuracy: 0.9313\n",
      "Epoch 74/100\n",
      "3000/3000 [==============================] - 7s 2ms/step - loss: 0.1868 - accuracy: 0.9549 - val_loss: 0.9315 - val_accuracy: 0.9324\n",
      "Epoch 75/100\n",
      "3000/3000 [==============================] - 7s 2ms/step - loss: 0.1809 - accuracy: 0.9559 - val_loss: 0.8692 - val_accuracy: 0.9338\n",
      "Epoch 76/100\n",
      "3000/3000 [==============================] - 7s 2ms/step - loss: 0.1825 - accuracy: 0.9545 - val_loss: 0.8718 - val_accuracy: 0.9315\n",
      "Epoch 77/100\n",
      "3000/3000 [==============================] - 7s 2ms/step - loss: 0.1883 - accuracy: 0.9544 - val_loss: 0.8665 - val_accuracy: 0.9335\n",
      "Epoch 78/100\n",
      "3000/3000 [==============================] - 8s 3ms/step - loss: 0.1797 - accuracy: 0.9543 - val_loss: 0.8573 - val_accuracy: 0.9315\n",
      "Epoch 79/100\n",
      "3000/3000 [==============================] - 9s 3ms/step - loss: 0.1884 - accuracy: 0.9545 - val_loss: 0.8886 - val_accuracy: 0.9315\n",
      "Epoch 80/100\n",
      "3000/3000 [==============================] - 7s 2ms/step - loss: 0.1794 - accuracy: 0.9556 - val_loss: 0.8724 - val_accuracy: 0.9303\n",
      "Epoch 81/100\n",
      "3000/3000 [==============================] - 8s 3ms/step - loss: 0.1814 - accuracy: 0.9551 - val_loss: 0.9235 - val_accuracy: 0.9323\n",
      "Epoch 82/100\n",
      "3000/3000 [==============================] - 8s 3ms/step - loss: 0.1707 - accuracy: 0.9561 - val_loss: 0.9601 - val_accuracy: 0.9303\n",
      "Epoch 83/100\n",
      "3000/3000 [==============================] - 8s 3ms/step - loss: 0.1876 - accuracy: 0.9544 - val_loss: 0.8733 - val_accuracy: 0.9365\n",
      "Epoch 84/100\n",
      "3000/3000 [==============================] - 8s 3ms/step - loss: 0.1838 - accuracy: 0.9558 - val_loss: 0.9872 - val_accuracy: 0.9273\n",
      "Epoch 85/100\n",
      "3000/3000 [==============================] - 8s 3ms/step - loss: 0.1871 - accuracy: 0.9538 - val_loss: 0.9937 - val_accuracy: 0.9298\n",
      "Epoch 86/100\n",
      "3000/3000 [==============================] - 7s 2ms/step - loss: 0.1758 - accuracy: 0.9551 - val_loss: 0.9572 - val_accuracy: 0.9235\n",
      "Epoch 87/100\n",
      "3000/3000 [==============================] - 7s 2ms/step - loss: 0.1830 - accuracy: 0.9547 - val_loss: 0.9596 - val_accuracy: 0.9322\n",
      "Epoch 88/100\n",
      "3000/3000 [==============================] - 9s 3ms/step - loss: 0.1788 - accuracy: 0.9550 - val_loss: 1.0116 - val_accuracy: 0.9305\n",
      "Epoch 89/100\n",
      "3000/3000 [==============================] - 8s 3ms/step - loss: 0.1789 - accuracy: 0.9550 - val_loss: 1.0008 - val_accuracy: 0.9377\n",
      "Epoch 90/100\n",
      "3000/3000 [==============================] - 7s 2ms/step - loss: 0.1782 - accuracy: 0.9555 - val_loss: 0.9934 - val_accuracy: 0.9338\n",
      "Epoch 91/100\n",
      "3000/3000 [==============================] - 7s 2ms/step - loss: 0.1790 - accuracy: 0.9555 - val_loss: 0.8407 - val_accuracy: 0.9270\n",
      "Epoch 92/100\n",
      "3000/3000 [==============================] - 7s 2ms/step - loss: 0.1778 - accuracy: 0.9559 - val_loss: 1.0256 - val_accuracy: 0.9333\n",
      "Epoch 93/100\n",
      "3000/3000 [==============================] - 8s 3ms/step - loss: 0.1791 - accuracy: 0.9553 - val_loss: 0.9477 - val_accuracy: 0.9236\n",
      "Epoch 94/100\n",
      "3000/3000 [==============================] - 7s 2ms/step - loss: 0.1862 - accuracy: 0.9560 - val_loss: 0.9898 - val_accuracy: 0.9297\n",
      "Epoch 95/100\n",
      "3000/3000 [==============================] - 7s 2ms/step - loss: 0.1759 - accuracy: 0.9553 - val_loss: 0.9575 - val_accuracy: 0.9295\n",
      "Epoch 96/100\n",
      "3000/3000 [==============================] - 8s 3ms/step - loss: 0.1713 - accuracy: 0.9570 - val_loss: 1.0671 - val_accuracy: 0.9293\n",
      "Epoch 97/100\n",
      "3000/3000 [==============================] - 8s 3ms/step - loss: 0.1796 - accuracy: 0.9556 - val_loss: 0.9740 - val_accuracy: 0.9336\n",
      "Epoch 98/100\n",
      "3000/3000 [==============================] - 8s 3ms/step - loss: 0.1789 - accuracy: 0.9557 - val_loss: 0.9659 - val_accuracy: 0.9327\n",
      "Epoch 99/100\n",
      "3000/3000 [==============================] - 9s 3ms/step - loss: 0.1852 - accuracy: 0.9552 - val_loss: 0.9435 - val_accuracy: 0.9271\n",
      "Epoch 100/100\n",
      "3000/3000 [==============================] - 8s 3ms/step - loss: 0.1765 - accuracy: 0.9556 - val_loss: 1.0540 - val_accuracy: 0.9278\n"
     ]
    },
    {
     "data": {
      "text/plain": [
       "<keras.callbacks.History at 0x23a46812370>"
      ]
     },
     "execution_count": 9,
     "metadata": {},
     "output_type": "execute_result"
    }
   ],
   "source": [
    "#validation_data=    表示同时对测试集进行验证\n",
    "model.fit(train_image, train_label, epochs=100, batch_size=20,validation_data=(test_image,test_label) )"
   ]
  },
  {
   "cell_type": "code",
   "execution_count": 10,
   "metadata": {},
   "outputs": [
    {
     "name": "stdout",
     "output_type": "stream",
     "text": [
      "313/313 [==============================] - 1s 2ms/step - loss: 1.0540 - accuracy: 0.9278\n"
     ]
    },
    {
     "data": {
      "text/plain": [
       "[1.0539827346801758, 0.9277999997138977]"
      ]
     },
     "execution_count": 10,
     "metadata": {},
     "output_type": "execute_result"
    }
   ],
   "source": [
    "#在测试集上的验证\n",
    "model.evaluate(test_image, test_label)"
   ]
  },
  {
   "cell_type": "code",
   "execution_count": 11,
   "metadata": {},
   "outputs": [
    {
     "name": "stdout",
     "output_type": "stream",
     "text": [
      "1/1 [==============================] - 0s 167ms/step\n"
     ]
    },
    {
     "data": {
      "text/plain": [
       "array([[0.00000000e+00, 1.43633811e-11, 2.52416200e-26, 1.99119086e-36,\n",
       "        0.00000000e+00, 0.00000000e+00, 0.00000000e+00, 1.00000000e+00,\n",
       "        0.00000000e+00, 0.00000000e+00],\n",
       "       [0.00000000e+00, 2.25444804e-21, 1.00000000e+00, 2.46911904e-16,\n",
       "        0.00000000e+00, 8.48102776e-32, 1.00330897e-30, 0.00000000e+00,\n",
       "        3.38844974e-20, 0.00000000e+00],\n",
       "       [0.00000000e+00, 1.00000000e+00, 0.00000000e+00, 0.00000000e+00,\n",
       "        0.00000000e+00, 0.00000000e+00, 0.00000000e+00, 0.00000000e+00,\n",
       "        0.00000000e+00, 0.00000000e+00],\n",
       "       [6.11561298e-01, 2.92840195e-14, 1.59557670e-01, 1.69014484e-02,\n",
       "        1.11730827e-03, 2.33836528e-02, 8.30438137e-02, 2.91982237e-02,\n",
       "        5.14433049e-02, 2.37933584e-02],\n",
       "       [0.00000000e+00, 1.62667028e-28, 1.51044505e-20, 0.00000000e+00,\n",
       "        1.00000000e+00, 4.46166191e-23, 2.09650475e-32, 1.43609883e-16,\n",
       "        0.00000000e+00, 2.29531184e-13],\n",
       "       [0.00000000e+00, 1.00000000e+00, 6.53653269e-38, 0.00000000e+00,\n",
       "        9.21793890e-26, 0.00000000e+00, 0.00000000e+00, 1.46830953e-33,\n",
       "        6.42381224e-38, 1.15159165e-35],\n",
       "       [0.00000000e+00, 0.00000000e+00, 0.00000000e+00, 0.00000000e+00,\n",
       "        1.00000000e+00, 0.00000000e+00, 0.00000000e+00, 2.30856050e-30,\n",
       "        0.00000000e+00, 2.13223749e-37],\n",
       "       [0.00000000e+00, 6.52048904e-09, 6.21450116e-14, 8.45779027e-07,\n",
       "        3.14835561e-05, 1.37052895e-15, 3.04002818e-28, 9.88948432e-06,\n",
       "        1.62072118e-16, 9.99957800e-01],\n",
       "       [1.38865328e-08, 1.66926624e-19, 1.14373627e-07, 9.80833977e-16,\n",
       "        2.93991356e-08, 1.79837356e-09, 9.99999881e-01, 3.21709500e-32,\n",
       "        2.52542733e-08, 0.00000000e+00],\n",
       "       [0.00000000e+00, 1.00325659e-11, 5.65834966e-19, 4.91405938e-09,\n",
       "        7.52118922e-07, 4.45557283e-21, 1.55232411e-38, 1.99456537e-07,\n",
       "        1.30116396e-22, 9.99999046e-01]], dtype=float32)"
      ]
     },
     "execution_count": 11,
     "metadata": {},
     "output_type": "execute_result"
    }
   ],
   "source": [
    "#预测\n",
    "import numpy as np\n",
    "model.predict(test_image[:10])"
   ]
  },
  {
   "cell_type": "code",
   "execution_count": 12,
   "metadata": {},
   "outputs": [
    {
     "name": "stdout",
     "output_type": "stream",
     "text": [
      "1/1 [==============================] - 0s 24ms/step\n"
     ]
    },
    {
     "data": {
      "text/plain": [
       "array([7, 2, 1, 0, 4, 1, 4, 9, 6, 9], dtype=int64)"
      ]
     },
     "execution_count": 12,
     "metadata": {},
     "output_type": "execute_result"
    }
   ],
   "source": [
    "np.argmax(model.predict(test_image[:10]),axis=1)"
   ]
  }
 ],
 "metadata": {
  "kernelspec": {
   "display_name": "base",
   "language": "python",
   "name": "python3"
  },
  "language_info": {
   "codemirror_mode": {
    "name": "ipython",
    "version": 3
   },
   "file_extension": ".py",
   "mimetype": "text/x-python",
   "name": "python",
   "nbconvert_exporter": "python",
   "pygments_lexer": "ipython3",
   "version": "3.9.15"
  },
  "orig_nbformat": 4,
  "vscode": {
   "interpreter": {
    "hash": "88279d2366fe020547cde40dd65aa0e3aa662a6ec1f3ca12d88834876c85e1a6"
   }
  }
 },
 "nbformat": 4,
 "nbformat_minor": 2
}
